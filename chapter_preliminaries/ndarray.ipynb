{
  "cells": [
    {
      "cell_type": "markdown",
      "metadata": {
        "id": "view-in-github",
        "colab_type": "text"
      },
      "source": [
        "<a href=\"https://colab.research.google.com/github/N4SIRODDIN3/Aspose.HTML-for-.NET/blob/master/chapter_preliminaries/ndarray.ipynb\" target=\"_parent\"><img src=\"https://colab.research.google.com/assets/colab-badge.svg\" alt=\"Open In Colab\"/></a>"
      ]
    },
    {
      "cell_type": "markdown",
      "id": "20aeffaa",
      "metadata": {
        "origin_pos": 1,
        "id": "20aeffaa"
      },
      "source": [
        "# Data Manipulation\n",
        ":label:`sec_ndarray`\n",
        "\n",
        "In order to get anything done,\n",
        "we need some way to store and manipulate data.\n",
        "Generally, there are two important things\n",
        "we need to do with data:\n",
        "(i) acquire them;\n",
        "and (ii) process them once they are inside the computer.\n",
        "There is no point in acquiring data\n",
        "without some way to store it,\n",
        "so to start, let's get our hands dirty\n",
        "with $n$-dimensional arrays,\n",
        "which we also call *tensors*.\n",
        "If you already know the NumPy\n",
        "scientific computing package,\n",
        "this will be a breeze.\n",
        "For all modern deep learning frameworks,\n",
        "the *tensor class* (`ndarray` in MXNet,\n",
        "`Tensor` in PyTorch and TensorFlow)\n",
        "resembles NumPy's `ndarray`,\n",
        "with a few killer features added.\n",
        "First, the tensor class\n",
        "supports automatic differentiation.\n",
        "Second, it leverages GPUs\n",
        "to accelerate numerical computation,\n",
        "whereas NumPy only runs on CPUs.\n",
        "These properties make neural networks\n",
        "both easy to code and fast to run.\n",
        "\n",
        "\n",
        "\n",
        "## Getting Started\n"
      ]
    },
    {
      "cell_type": "markdown",
      "id": "81323834",
      "metadata": {
        "origin_pos": 4,
        "tab": [
          "tensorflow"
        ],
        "id": "81323834"
      },
      "source": [
        "To start, we import `tensorflow`.\n",
        "For brevity, practitioners\n",
        "often assign the alias `tf`.\n"
      ]
    },
    {
      "cell_type": "code",
      "execution_count": 1,
      "id": "c46bca87",
      "metadata": {
        "execution": {
          "iopub.execute_input": "2023-08-18T20:03:32.947591Z",
          "iopub.status.busy": "2023-08-18T20:03:32.946960Z",
          "iopub.status.idle": "2023-08-18T20:03:35.685762Z",
          "shell.execute_reply": "2023-08-18T20:03:35.684891Z"
        },
        "origin_pos": 7,
        "tab": [
          "tensorflow"
        ],
        "id": "c46bca87"
      },
      "outputs": [],
      "source": [
        "import tensorflow as tf"
      ]
    },
    {
      "cell_type": "markdown",
      "id": "e8283dc8",
      "metadata": {
        "origin_pos": 9,
        "id": "e8283dc8"
      },
      "source": [
        "[**A tensor represents a (possibly multidimensional) array of numerical values.**]\n",
        "In the one-dimensional case, i.e., when only one axis is needed for the data,\n",
        "a tensor is called a *vector*.\n",
        "With two axes, a tensor is called a *matrix*.\n",
        "With $k > 2$ axes, we drop the specialized names\n",
        "and just refer to the object as a $k^\\textrm{th}$-*order tensor*.\n"
      ]
    },
    {
      "cell_type": "markdown",
      "id": "6905448e",
      "metadata": {
        "origin_pos": 12,
        "tab": [
          "tensorflow"
        ],
        "id": "6905448e"
      },
      "source": [
        "TensorFlow provides a variety of functions\n",
        "for creating new tensors\n",
        "prepopulated with values.\n",
        "For example, by invoking `range(n)`,\n",
        "we can create a vector of evenly spaced values,\n",
        "starting at 0 (included)\n",
        "and ending at `n` (not included).\n",
        "By default, the interval size is $1$.\n",
        "Unless otherwise specified,\n",
        "new tensors are stored in main memory\n",
        "and designated for CPU-based computation.\n"
      ]
    },
    {
      "cell_type": "code",
      "execution_count": 2,
      "id": "18c995b0",
      "metadata": {
        "execution": {
          "iopub.execute_input": "2023-08-18T20:03:35.689842Z",
          "iopub.status.busy": "2023-08-18T20:03:35.689042Z",
          "iopub.status.idle": "2023-08-18T20:03:38.794324Z",
          "shell.execute_reply": "2023-08-18T20:03:38.793491Z"
        },
        "origin_pos": 15,
        "tab": [
          "tensorflow"
        ],
        "colab": {
          "base_uri": "https://localhost:8080/"
        },
        "id": "18c995b0",
        "outputId": "5e54d8a2-f2d2-44a0-99a2-c530dd399a25"
      },
      "outputs": [
        {
          "output_type": "execute_result",
          "data": {
            "text/plain": [
              "<tf.Tensor: shape=(12,), dtype=float32, numpy=\n",
              "array([ 0.,  1.,  2.,  3.,  4.,  5.,  6.,  7.,  8.,  9., 10., 11.],\n",
              "      dtype=float32)>"
            ]
          },
          "metadata": {},
          "execution_count": 2
        }
      ],
      "source": [
        "x = tf.range(12, dtype=tf.float32)\n",
        "x"
      ]
    },
    {
      "cell_type": "markdown",
      "id": "c6623979",
      "metadata": {
        "origin_pos": 19,
        "tab": [
          "tensorflow"
        ],
        "id": "c6623979"
      },
      "source": [
        "Each of these values is called\n",
        "an *element* of the tensor.\n",
        "The tensor `x` contains 12 elements.\n",
        "We can inspect the total number of elements\n",
        "in a tensor via the `size` function.\n"
      ]
    },
    {
      "cell_type": "code",
      "execution_count": 3,
      "id": "d2040a20",
      "metadata": {
        "execution": {
          "iopub.execute_input": "2023-08-18T20:03:38.797808Z",
          "iopub.status.busy": "2023-08-18T20:03:38.797236Z",
          "iopub.status.idle": "2023-08-18T20:03:38.803733Z",
          "shell.execute_reply": "2023-08-18T20:03:38.802941Z"
        },
        "origin_pos": 22,
        "tab": [
          "tensorflow"
        ],
        "colab": {
          "base_uri": "https://localhost:8080/"
        },
        "id": "d2040a20",
        "outputId": "79aaf6ab-47ea-48c1-8a26-eaf84a60c847"
      },
      "outputs": [
        {
          "output_type": "execute_result",
          "data": {
            "text/plain": [
              "<tf.Tensor: shape=(), dtype=int32, numpy=12>"
            ]
          },
          "metadata": {},
          "execution_count": 3
        }
      ],
      "source": [
        "tf.size(x)"
      ]
    },
    {
      "cell_type": "markdown",
      "id": "897a4d17",
      "metadata": {
        "origin_pos": 23,
        "id": "897a4d17"
      },
      "source": [
        "(**We can access a tensor's *shape***)\n",
        "(the length along each axis)\n",
        "by inspecting its `shape` attribute.\n",
        "Because we are dealing with a vector here,\n",
        "the `shape` contains just a single element\n",
        "and is identical to the size.\n"
      ]
    },
    {
      "cell_type": "code",
      "execution_count": 4,
      "id": "c369c57e",
      "metadata": {
        "execution": {
          "iopub.execute_input": "2023-08-18T20:03:38.806708Z",
          "iopub.status.busy": "2023-08-18T20:03:38.806423Z",
          "iopub.status.idle": "2023-08-18T20:03:38.811472Z",
          "shell.execute_reply": "2023-08-18T20:03:38.810697Z"
        },
        "origin_pos": 24,
        "tab": [
          "tensorflow"
        ],
        "colab": {
          "base_uri": "https://localhost:8080/"
        },
        "id": "c369c57e",
        "outputId": "6cb39a1d-d3a4-47af-c824-a9d4329a83b0"
      },
      "outputs": [
        {
          "output_type": "execute_result",
          "data": {
            "text/plain": [
              "TensorShape([12])"
            ]
          },
          "metadata": {},
          "execution_count": 4
        }
      ],
      "source": [
        "x.shape"
      ]
    },
    {
      "cell_type": "markdown",
      "id": "94f4cc49",
      "metadata": {
        "origin_pos": 25,
        "id": "94f4cc49"
      },
      "source": [
        "We can [**change the shape of a tensor\n",
        "without altering its size or values**],\n",
        "by invoking `reshape`.\n",
        "For example, we can transform\n",
        "our vector `x` whose shape is (12,)\n",
        "to a matrix `X`  with shape (3, 4).\n",
        "This new tensor retains all elements\n",
        "but reconfigures them into a matrix.\n",
        "Notice that the elements of our vector\n",
        "are laid out one row at a time and thus\n",
        "`x[3] == X[0, 3]`.\n"
      ]
    },
    {
      "cell_type": "code",
      "execution_count": 5,
      "id": "53d0f755",
      "metadata": {
        "execution": {
          "iopub.execute_input": "2023-08-18T20:03:38.814638Z",
          "iopub.status.busy": "2023-08-18T20:03:38.814106Z",
          "iopub.status.idle": "2023-08-18T20:03:38.821683Z",
          "shell.execute_reply": "2023-08-18T20:03:38.820905Z"
        },
        "origin_pos": 27,
        "tab": [
          "tensorflow"
        ],
        "colab": {
          "base_uri": "https://localhost:8080/"
        },
        "id": "53d0f755",
        "outputId": "ea16dc22-b5cf-4aaa-9150-8e088fcc2201"
      },
      "outputs": [
        {
          "output_type": "execute_result",
          "data": {
            "text/plain": [
              "<tf.Tensor: shape=(3, 4), dtype=float32, numpy=\n",
              "array([[ 0.,  1.,  2.,  3.],\n",
              "       [ 4.,  5.,  6.,  7.],\n",
              "       [ 8.,  9., 10., 11.]], dtype=float32)>"
            ]
          },
          "metadata": {},
          "execution_count": 5
        }
      ],
      "source": [
        "X = tf.reshape(x, (3, 4))\n",
        "X"
      ]
    },
    {
      "cell_type": "markdown",
      "id": "12445c4d",
      "metadata": {
        "origin_pos": 28,
        "id": "12445c4d"
      },
      "source": [
        "Note that specifying every shape component\n",
        "to `reshape` is redundant.\n",
        "Because we already know our tensor's size,\n",
        "we can work out one component of the shape given the rest.\n",
        "For example, given a tensor of size $n$\n",
        "and target shape ($h$, $w$),\n",
        "we know that $w = n/h$.\n",
        "To automatically infer one component of the shape,\n",
        "we can place a `-1` for the shape component\n",
        "that should be inferred automatically.\n",
        "In our case, instead of calling `x.reshape(3, 4)`,\n",
        "we could have equivalently called `x.reshape(-1, 4)` or `x.reshape(3, -1)`.\n",
        "\n",
        "Practitioners often need to work with tensors\n",
        "initialized to contain all 0s or 1s.\n",
        "[**We can construct a tensor with all elements set to 0**] (~~or one~~)\n",
        "and a shape of (2, 3, 4) via the `zeros` function.\n"
      ]
    },
    {
      "cell_type": "code",
      "execution_count": 6,
      "id": "c89854f9",
      "metadata": {
        "execution": {
          "iopub.execute_input": "2023-08-18T20:03:38.824955Z",
          "iopub.status.busy": "2023-08-18T20:03:38.824444Z",
          "iopub.status.idle": "2023-08-18T20:03:38.831127Z",
          "shell.execute_reply": "2023-08-18T20:03:38.830301Z"
        },
        "origin_pos": 31,
        "tab": [
          "tensorflow"
        ],
        "colab": {
          "base_uri": "https://localhost:8080/"
        },
        "id": "c89854f9",
        "outputId": "e6464a7c-6a85-45f7-92c1-b1b8c580af10"
      },
      "outputs": [
        {
          "output_type": "execute_result",
          "data": {
            "text/plain": [
              "<tf.Tensor: shape=(2, 3, 4), dtype=float32, numpy=\n",
              "array([[[0., 0., 0., 0.],\n",
              "        [0., 0., 0., 0.],\n",
              "        [0., 0., 0., 0.]],\n",
              "\n",
              "       [[0., 0., 0., 0.],\n",
              "        [0., 0., 0., 0.],\n",
              "        [0., 0., 0., 0.]]], dtype=float32)>"
            ]
          },
          "metadata": {},
          "execution_count": 6
        }
      ],
      "source": [
        "tf.zeros((2, 3, 4))"
      ]
    },
    {
      "cell_type": "markdown",
      "id": "044eb619",
      "metadata": {
        "origin_pos": 33,
        "id": "044eb619"
      },
      "source": [
        "Similarly, we can create a tensor\n",
        "with all 1s by invoking `ones`.\n"
      ]
    },
    {
      "cell_type": "code",
      "execution_count": 7,
      "id": "d50c177a",
      "metadata": {
        "execution": {
          "iopub.execute_input": "2023-08-18T20:03:38.834426Z",
          "iopub.status.busy": "2023-08-18T20:03:38.833766Z",
          "iopub.status.idle": "2023-08-18T20:03:38.839758Z",
          "shell.execute_reply": "2023-08-18T20:03:38.838981Z"
        },
        "origin_pos": 36,
        "tab": [
          "tensorflow"
        ],
        "colab": {
          "base_uri": "https://localhost:8080/"
        },
        "id": "d50c177a",
        "outputId": "8fda4ced-4694-43c5-ce52-0979a5b5139e"
      },
      "outputs": [
        {
          "output_type": "execute_result",
          "data": {
            "text/plain": [
              "<tf.Tensor: shape=(2, 3, 4), dtype=float32, numpy=\n",
              "array([[[1., 1., 1., 1.],\n",
              "        [1., 1., 1., 1.],\n",
              "        [1., 1., 1., 1.]],\n",
              "\n",
              "       [[1., 1., 1., 1.],\n",
              "        [1., 1., 1., 1.],\n",
              "        [1., 1., 1., 1.]]], dtype=float32)>"
            ]
          },
          "metadata": {},
          "execution_count": 7
        }
      ],
      "source": [
        "tf.ones((2, 3, 4))"
      ]
    },
    {
      "cell_type": "markdown",
      "id": "3a3f2238",
      "metadata": {
        "origin_pos": 38,
        "id": "3a3f2238"
      },
      "source": [
        "We often wish to\n",
        "[**sample each element randomly (and independently)**]\n",
        "from a given probability distribution.\n",
        "For example, the parameters of neural networks\n",
        "are often initialized randomly.\n",
        "The following snippet creates a tensor\n",
        "with elements drawn from\n",
        "a standard Gaussian (normal) distribution\n",
        "with mean 0 and standard deviation 1.\n"
      ]
    },
    {
      "cell_type": "code",
      "execution_count": 8,
      "id": "aef115bd",
      "metadata": {
        "execution": {
          "iopub.execute_input": "2023-08-18T20:03:38.843006Z",
          "iopub.status.busy": "2023-08-18T20:03:38.842343Z",
          "iopub.status.idle": "2023-08-18T20:03:38.851517Z",
          "shell.execute_reply": "2023-08-18T20:03:38.850729Z"
        },
        "origin_pos": 41,
        "tab": [
          "tensorflow"
        ],
        "colab": {
          "base_uri": "https://localhost:8080/"
        },
        "id": "aef115bd",
        "outputId": "2f52dec8-e9f0-4727-b4ce-8743424175f1"
      },
      "outputs": [
        {
          "output_type": "execute_result",
          "data": {
            "text/plain": [
              "<tf.Tensor: shape=(3, 4), dtype=float32, numpy=\n",
              "array([[ 0.4622891 , -0.20080125, -1.2344759 ,  0.5506386 ],\n",
              "       [ 0.57984626,  1.7125438 , -1.8723658 , -0.00951299],\n",
              "       [ 0.15848209, -0.43863797,  0.4332092 , -0.7491902 ]],\n",
              "      dtype=float32)>"
            ]
          },
          "metadata": {},
          "execution_count": 8
        }
      ],
      "source": [
        "tf.random.normal(shape=[3, 4])"
      ]
    },
    {
      "cell_type": "markdown",
      "id": "07c2da70",
      "metadata": {
        "origin_pos": 43,
        "id": "07c2da70"
      },
      "source": [
        "Finally, we can construct tensors by\n",
        "[**supplying the exact values for each element**]\n",
        "by supplying (possibly nested) Python list(s)\n",
        "containing numerical literals.\n",
        "Here, we construct a matrix with a list of lists,\n",
        "where the outermost list corresponds to axis 0,\n",
        "and the inner list corresponds to axis 1.\n"
      ]
    },
    {
      "cell_type": "code",
      "execution_count": 9,
      "id": "a45c03c1",
      "metadata": {
        "execution": {
          "iopub.execute_input": "2023-08-18T20:03:38.855186Z",
          "iopub.status.busy": "2023-08-18T20:03:38.854537Z",
          "iopub.status.idle": "2023-08-18T20:03:38.860381Z",
          "shell.execute_reply": "2023-08-18T20:03:38.859585Z"
        },
        "origin_pos": 46,
        "tab": [
          "tensorflow"
        ],
        "colab": {
          "base_uri": "https://localhost:8080/"
        },
        "id": "a45c03c1",
        "outputId": "c2a8ba09-c3ee-416e-fa43-7b7d65795803"
      },
      "outputs": [
        {
          "output_type": "execute_result",
          "data": {
            "text/plain": [
              "<tf.Tensor: shape=(3, 4), dtype=int32, numpy=\n",
              "array([[2, 1, 4, 3],\n",
              "       [1, 2, 3, 4],\n",
              "       [4, 3, 2, 1]], dtype=int32)>"
            ]
          },
          "metadata": {},
          "execution_count": 9
        }
      ],
      "source": [
        "tf.constant([[2, 1, 4, 3], [1, 2, 3, 4], [4, 3, 2, 1]])"
      ]
    },
    {
      "cell_type": "markdown",
      "id": "d7ff92e2",
      "metadata": {
        "origin_pos": 48,
        "id": "d7ff92e2"
      },
      "source": [
        "## Indexing and Slicing\n",
        "\n",
        "As with  Python lists,\n",
        "we can access tensor elements\n",
        "by indexing (starting with 0).\n",
        "To access an element based on its position\n",
        "relative to the end of the list,\n",
        "we can use negative indexing.\n",
        "Finally, we can access whole ranges of indices\n",
        "via slicing (e.g., `X[start:stop]`),\n",
        "where the returned value includes\n",
        "the first index (`start`) *but not the last* (`stop`).\n",
        "Finally, when only one index (or slice)\n",
        "is specified for a $k^\\textrm{th}$-order tensor,\n",
        "it is applied along axis 0.\n",
        "Thus, in the following code,\n",
        "[**`[-1]` selects the last row and `[1:3]`\n",
        "selects the second and third rows**].\n"
      ]
    },
    {
      "cell_type": "code",
      "execution_count": 10,
      "id": "de02452a",
      "metadata": {
        "execution": {
          "iopub.execute_input": "2023-08-18T20:03:38.863741Z",
          "iopub.status.busy": "2023-08-18T20:03:38.863114Z",
          "iopub.status.idle": "2023-08-18T20:03:38.872283Z",
          "shell.execute_reply": "2023-08-18T20:03:38.871493Z"
        },
        "origin_pos": 49,
        "tab": [
          "tensorflow"
        ],
        "colab": {
          "base_uri": "https://localhost:8080/"
        },
        "id": "de02452a",
        "outputId": "c7983917-7b96-414e-8441-7ed588ad9946"
      },
      "outputs": [
        {
          "output_type": "execute_result",
          "data": {
            "text/plain": [
              "(<tf.Tensor: shape=(4,), dtype=float32, numpy=array([ 8.,  9., 10., 11.], dtype=float32)>,\n",
              " <tf.Tensor: shape=(2, 4), dtype=float32, numpy=\n",
              " array([[ 4.,  5.,  6.,  7.],\n",
              "        [ 8.,  9., 10., 11.]], dtype=float32)>)"
            ]
          },
          "metadata": {},
          "execution_count": 10
        }
      ],
      "source": [
        "X[-1], X[1:3]"
      ]
    },
    {
      "cell_type": "markdown",
      "id": "6595865f",
      "metadata": {
        "origin_pos": 51,
        "tab": [
          "tensorflow"
        ],
        "id": "6595865f"
      },
      "source": [
        "`Tensors` in TensorFlow are immutable, and cannot be assigned to.\n",
        "`Variables` in TensorFlow are mutable containers of state that support\n",
        "assignments. Keep in mind that gradients in TensorFlow do not flow backwards\n",
        "through `Variable` assignments.\n",
        "\n",
        "Beyond assigning a value to the entire `Variable`, we can write elements of a\n",
        "`Variable` by specifying indices.\n"
      ]
    },
    {
      "cell_type": "code",
      "execution_count": 11,
      "id": "60b14db7",
      "metadata": {
        "execution": {
          "iopub.execute_input": "2023-08-18T20:03:38.875638Z",
          "iopub.status.busy": "2023-08-18T20:03:38.874974Z",
          "iopub.status.idle": "2023-08-18T20:03:38.889404Z",
          "shell.execute_reply": "2023-08-18T20:03:38.888620Z"
        },
        "origin_pos": 53,
        "tab": [
          "tensorflow"
        ],
        "colab": {
          "base_uri": "https://localhost:8080/"
        },
        "id": "60b14db7",
        "outputId": "fc379e6f-85d8-472c-a9ef-194b71fa6e9a"
      },
      "outputs": [
        {
          "output_type": "execute_result",
          "data": {
            "text/plain": [
              "<tf.Variable 'Variable:0' shape=(3, 4) dtype=float32, numpy=\n",
              "array([[ 0.,  1.,  2.,  3.],\n",
              "       [ 4.,  5.,  9.,  7.],\n",
              "       [ 8.,  9., 10., 11.]], dtype=float32)>"
            ]
          },
          "metadata": {},
          "execution_count": 11
        }
      ],
      "source": [
        "X_var = tf.Variable(X)\n",
        "X_var[1, 2].assign(9)\n",
        "X_var"
      ]
    },
    {
      "cell_type": "markdown",
      "id": "64dd4c22",
      "metadata": {
        "origin_pos": 55,
        "id": "64dd4c22"
      },
      "source": [
        "If we want [**to assign multiple elements the same value,\n",
        "we apply the indexing on the left-hand side\n",
        "of the assignment operation.**]\n",
        "For instance, `[:2, :]`  accesses\n",
        "the first and second rows,\n",
        "where `:` takes all the elements along axis 1 (column).\n",
        "While we discussed indexing for matrices,\n",
        "this also works for vectors\n",
        "and for tensors of more than two dimensions.\n"
      ]
    },
    {
      "cell_type": "code",
      "execution_count": 12,
      "id": "ce730a32",
      "metadata": {
        "execution": {
          "iopub.execute_input": "2023-08-18T20:03:38.892762Z",
          "iopub.status.busy": "2023-08-18T20:03:38.892163Z",
          "iopub.status.idle": "2023-08-18T20:03:38.902826Z",
          "shell.execute_reply": "2023-08-18T20:03:38.902015Z"
        },
        "origin_pos": 57,
        "tab": [
          "tensorflow"
        ],
        "colab": {
          "base_uri": "https://localhost:8080/"
        },
        "id": "ce730a32",
        "outputId": "fb6bb614-b73d-4aa6-a876-a640026ba796"
      },
      "outputs": [
        {
          "output_type": "execute_result",
          "data": {
            "text/plain": [
              "<tf.Variable 'Variable:0' shape=(3, 4) dtype=float32, numpy=\n",
              "array([[12., 12., 12., 12.],\n",
              "       [12., 12., 12., 12.],\n",
              "       [ 8.,  9., 10., 11.]], dtype=float32)>"
            ]
          },
          "metadata": {},
          "execution_count": 12
        }
      ],
      "source": [
        "X_var = tf.Variable(X)\n",
        "X_var[:2, :].assign(tf.ones(X_var[:2,:].shape, dtype=tf.float32) * 12)\n",
        "X_var"
      ]
    },
    {
      "cell_type": "markdown",
      "id": "1e888829",
      "metadata": {
        "origin_pos": 59,
        "id": "1e888829"
      },
      "source": [
        "## Operations\n",
        "\n",
        "Now that we know how to construct tensors\n",
        "and how to read from and write to their elements,\n",
        "we can begin to manipulate them\n",
        "with various mathematical operations.\n",
        "Among the most useful of these\n",
        "are the *elementwise* operations.\n",
        "These apply a standard scalar operation\n",
        "to each element of a tensor.\n",
        "For functions that take two tensors as inputs,\n",
        "elementwise operations apply some standard binary operator\n",
        "on each pair of corresponding elements.\n",
        "We can create an elementwise function\n",
        "from any function that maps\n",
        "from a scalar to a scalar.\n",
        "\n",
        "In mathematical notation, we denote such\n",
        "*unary* scalar operators (taking one input)\n",
        "by the signature\n",
        "$f: \\mathbb{R} \\rightarrow \\mathbb{R}$.\n",
        "This just means that the function maps\n",
        "from any real number onto some other real number.\n",
        "Most standard operators, including unary ones like $e^x$, can be applied elementwise.\n"
      ]
    },
    {
      "cell_type": "code",
      "execution_count": 13,
      "id": "57db331d",
      "metadata": {
        "execution": {
          "iopub.execute_input": "2023-08-18T20:03:38.906103Z",
          "iopub.status.busy": "2023-08-18T20:03:38.905506Z",
          "iopub.status.idle": "2023-08-18T20:03:38.911813Z",
          "shell.execute_reply": "2023-08-18T20:03:38.911041Z"
        },
        "origin_pos": 62,
        "tab": [
          "tensorflow"
        ],
        "colab": {
          "base_uri": "https://localhost:8080/"
        },
        "id": "57db331d",
        "outputId": "91ea280c-8fa4-4561-9cb1-aaebb330b7c8"
      },
      "outputs": [
        {
          "output_type": "execute_result",
          "data": {
            "text/plain": [
              "<tf.Tensor: shape=(12,), dtype=float32, numpy=\n",
              "array([1.0000000e+00, 2.7182817e+00, 7.3890562e+00, 2.0085537e+01,\n",
              "       5.4598148e+01, 1.4841316e+02, 4.0342877e+02, 1.0966332e+03,\n",
              "       2.9809580e+03, 8.1030840e+03, 2.2026465e+04, 5.9874141e+04],\n",
              "      dtype=float32)>"
            ]
          },
          "metadata": {},
          "execution_count": 13
        }
      ],
      "source": [
        "tf.exp(x)"
      ]
    },
    {
      "cell_type": "markdown",
      "id": "93154e12",
      "metadata": {
        "origin_pos": 64,
        "id": "93154e12"
      },
      "source": [
        "Likewise, we denote *binary* scalar operators,\n",
        "which map pairs of real numbers\n",
        "to a (single) real number\n",
        "via the signature\n",
        "$f: \\mathbb{R}, \\mathbb{R} \\rightarrow \\mathbb{R}$.\n",
        "Given any two vectors $\\mathbf{u}$\n",
        "and $\\mathbf{v}$ *of the same shape*,\n",
        "and a binary operator $f$, we can produce a vector\n",
        "$\\mathbf{c} = F(\\mathbf{u},\\mathbf{v})$\n",
        "by setting $c_i \\gets f(u_i, v_i)$ for all $i$,\n",
        "where $c_i, u_i$, and $v_i$ are the $i^\\textrm{th}$ elements\n",
        "of vectors $\\mathbf{c}, \\mathbf{u}$, and $\\mathbf{v}$.\n",
        "Here, we produced the vector-valued\n",
        "$F: \\mathbb{R}^d, \\mathbb{R}^d \\rightarrow \\mathbb{R}^d$\n",
        "by *lifting* the scalar function\n",
        "to an elementwise vector operation.\n",
        "The common standard arithmetic operators\n",
        "for addition (`+`), subtraction (`-`),\n",
        "multiplication (`*`), division (`/`),\n",
        "and exponentiation (`**`)\n",
        "have all been *lifted* to elementwise operations\n",
        "for identically-shaped tensors of arbitrary shape.\n"
      ]
    },
    {
      "cell_type": "code",
      "execution_count": 14,
      "id": "450ecae0",
      "metadata": {
        "execution": {
          "iopub.execute_input": "2023-08-18T20:03:38.915088Z",
          "iopub.status.busy": "2023-08-18T20:03:38.914492Z",
          "iopub.status.idle": "2023-08-18T20:03:38.925109Z",
          "shell.execute_reply": "2023-08-18T20:03:38.924342Z"
        },
        "origin_pos": 67,
        "tab": [
          "tensorflow"
        ],
        "colab": {
          "base_uri": "https://localhost:8080/"
        },
        "id": "450ecae0",
        "outputId": "8ed780fb-5479-485c-fe24-2f134b625cda"
      },
      "outputs": [
        {
          "output_type": "execute_result",
          "data": {
            "text/plain": [
              "(<tf.Tensor: shape=(4,), dtype=float32, numpy=array([ 3.,  4.,  6., 10.], dtype=float32)>,\n",
              " <tf.Tensor: shape=(4,), dtype=float32, numpy=array([-1.,  0.,  2.,  6.], dtype=float32)>,\n",
              " <tf.Tensor: shape=(4,), dtype=float32, numpy=array([ 2.,  4.,  8., 16.], dtype=float32)>,\n",
              " <tf.Tensor: shape=(4,), dtype=float32, numpy=array([0.5, 1. , 2. , 4. ], dtype=float32)>,\n",
              " <tf.Tensor: shape=(4,), dtype=float32, numpy=array([ 1.,  4., 16., 64.], dtype=float32)>)"
            ]
          },
          "metadata": {},
          "execution_count": 14
        }
      ],
      "source": [
        "x = tf.constant([1.0, 2, 4, 8])\n",
        "y = tf.constant([2.0, 2, 2, 2])\n",
        "x + y, x - y, x * y, x / y, x ** y"
      ]
    },
    {
      "cell_type": "markdown",
      "id": "bdd1bce8",
      "metadata": {
        "origin_pos": 69,
        "id": "bdd1bce8"
      },
      "source": [
        "In addition to elementwise computations,\n",
        "we can also perform linear algebraic operations,\n",
        "such as dot products and matrix multiplications.\n",
        "We will elaborate on these\n",
        "in :numref:`sec_linear-algebra`.\n",
        "\n",
        "We can also [***concatenate* multiple tensors,**]\n",
        "stacking them end-to-end to form a larger one.\n",
        "We just need to provide a list of tensors\n",
        "and tell the system along which axis to concatenate.\n",
        "The example below shows what happens when we concatenate\n",
        "two matrices along rows (axis 0)\n",
        "instead of columns (axis 1).\n",
        "We can see that the first output's axis-0 length ($6$)\n",
        "is the sum of the two input tensors' axis-0 lengths ($3 + 3$);\n",
        "while the second output's axis-1 length ($8$)\n",
        "is the sum of the two input tensors' axis-1 lengths ($4 + 4$).\n"
      ]
    },
    {
      "cell_type": "code",
      "execution_count": 15,
      "id": "89f4cd29",
      "metadata": {
        "execution": {
          "iopub.execute_input": "2023-08-18T20:03:38.928513Z",
          "iopub.status.busy": "2023-08-18T20:03:38.927897Z",
          "iopub.status.idle": "2023-08-18T20:03:38.936885Z",
          "shell.execute_reply": "2023-08-18T20:03:38.936112Z"
        },
        "origin_pos": 72,
        "tab": [
          "tensorflow"
        ],
        "colab": {
          "base_uri": "https://localhost:8080/"
        },
        "id": "89f4cd29",
        "outputId": "d4fb3638-09ce-45bd-bf50-a4e1eae616d9"
      },
      "outputs": [
        {
          "output_type": "execute_result",
          "data": {
            "text/plain": [
              "(<tf.Tensor: shape=(6, 4), dtype=float32, numpy=\n",
              " array([[ 0.,  1.,  2.,  3.],\n",
              "        [ 4.,  5.,  6.,  7.],\n",
              "        [ 8.,  9., 10., 11.],\n",
              "        [ 2.,  1.,  4.,  3.],\n",
              "        [ 1.,  2.,  3.,  4.],\n",
              "        [ 4.,  3.,  2.,  1.]], dtype=float32)>,\n",
              " <tf.Tensor: shape=(3, 8), dtype=float32, numpy=\n",
              " array([[ 0.,  1.,  2.,  3.,  2.,  1.,  4.,  3.],\n",
              "        [ 4.,  5.,  6.,  7.,  1.,  2.,  3.,  4.],\n",
              "        [ 8.,  9., 10., 11.,  4.,  3.,  2.,  1.]], dtype=float32)>)"
            ]
          },
          "metadata": {},
          "execution_count": 15
        }
      ],
      "source": [
        "X = tf.reshape(tf.range(12, dtype=tf.float32), (3, 4))\n",
        "Y = tf.constant([[2.0, 1, 4, 3], [1, 2, 3, 4], [4, 3, 2, 1]])\n",
        "tf.concat([X, Y], axis=0), tf.concat([X, Y], axis=1)"
      ]
    },
    {
      "cell_type": "markdown",
      "id": "b5e7330b",
      "metadata": {
        "origin_pos": 74,
        "id": "b5e7330b"
      },
      "source": [
        "Sometimes, we want to\n",
        "[**construct a binary tensor via *logical statements*.**]\n",
        "Take `X == Y` as an example.\n",
        "For each position `i, j`, if `X[i, j]` and `Y[i, j]` are equal,\n",
        "then the corresponding entry in the result takes value `1`,\n",
        "otherwise it takes value `0`.\n"
      ]
    },
    {
      "cell_type": "code",
      "execution_count": 33,
      "id": "db32b5d2",
      "metadata": {
        "execution": {
          "iopub.execute_input": "2023-08-18T20:03:38.940215Z",
          "iopub.status.busy": "2023-08-18T20:03:38.939568Z",
          "iopub.status.idle": "2023-08-18T20:03:38.945736Z",
          "shell.execute_reply": "2023-08-18T20:03:38.944966Z"
        },
        "origin_pos": 75,
        "tab": [
          "tensorflow"
        ],
        "colab": {
          "base_uri": "https://localhost:8080/"
        },
        "id": "db32b5d2",
        "outputId": "d5cf3d91-5c46-4c48-d92d-c46a6d0f0c6b"
      },
      "outputs": [
        {
          "output_type": "execute_result",
          "data": {
            "text/plain": [
              "<tf.Tensor: shape=(3, 4), dtype=bool, numpy=\n",
              "array([[False, False, False, False],\n",
              "       [False, False, False, False],\n",
              "       [False, False, False, False]])>"
            ]
          },
          "metadata": {},
          "execution_count": 33
        }
      ],
      "source": [
        "X > Y"
      ]
    },
    {
      "cell_type": "markdown",
      "id": "732d0c62",
      "metadata": {
        "origin_pos": 76,
        "id": "732d0c62"
      },
      "source": [
        "[**Summing all the elements in the tensor**] yields a tensor with only one element.\n"
      ]
    },
    {
      "cell_type": "code",
      "execution_count": 17,
      "id": "3cd9ba62",
      "metadata": {
        "execution": {
          "iopub.execute_input": "2023-08-18T20:03:38.949018Z",
          "iopub.status.busy": "2023-08-18T20:03:38.948428Z",
          "iopub.status.idle": "2023-08-18T20:03:38.954679Z",
          "shell.execute_reply": "2023-08-18T20:03:38.953879Z"
        },
        "origin_pos": 78,
        "tab": [
          "tensorflow"
        ],
        "colab": {
          "base_uri": "https://localhost:8080/"
        },
        "id": "3cd9ba62",
        "outputId": "892c5951-003a-4ef5-c7fc-f05b54c7b018"
      },
      "outputs": [
        {
          "output_type": "execute_result",
          "data": {
            "text/plain": [
              "<tf.Tensor: shape=(), dtype=float32, numpy=66.0>"
            ]
          },
          "metadata": {},
          "execution_count": 17
        }
      ],
      "source": [
        "tf.reduce_sum(X)"
      ]
    },
    {
      "cell_type": "markdown",
      "id": "f8af5475",
      "metadata": {
        "origin_pos": 79,
        "id": "f8af5475"
      },
      "source": [
        "## Broadcasting\n",
        ":label:`subsec_broadcasting`\n",
        "\n",
        "By now, you know how to perform\n",
        "elementwise binary operations\n",
        "on two tensors of the same shape.\n",
        "Under certain conditions,\n",
        "even when shapes differ,\n",
        "we can still [**perform elementwise binary operations\n",
        "by invoking the *broadcasting mechanism*.**]\n",
        "Broadcasting works according to\n",
        "the following two-step procedure:\n",
        "(i) expand one or both arrays\n",
        "by copying elements along axes with length 1\n",
        "so that after this transformation,\n",
        "the two tensors have the same shape;\n",
        "(ii) perform an elementwise operation\n",
        "on the resulting arrays.\n"
      ]
    },
    {
      "cell_type": "code",
      "execution_count": 56,
      "id": "5aa20e68",
      "metadata": {
        "execution": {
          "iopub.execute_input": "2023-08-18T20:03:38.957893Z",
          "iopub.status.busy": "2023-08-18T20:03:38.957287Z",
          "iopub.status.idle": "2023-08-18T20:03:38.966106Z",
          "shell.execute_reply": "2023-08-18T20:03:38.965330Z"
        },
        "origin_pos": 82,
        "tab": [
          "tensorflow"
        ],
        "colab": {
          "base_uri": "https://localhost:8080/"
        },
        "id": "5aa20e68",
        "outputId": "7b53d912-71b2-43b5-ebee-b2aa397faf4e"
      },
      "outputs": [
        {
          "output_type": "execute_result",
          "data": {
            "text/plain": [
              "(<tf.Tensor: shape=(3, 2), dtype=float32, numpy=\n",
              " array([[1., 1.],\n",
              "        [1., 1.],\n",
              "        [1., 1.]], dtype=float32)>,\n",
              " <tf.Tensor: shape=(1, 3), dtype=float32, numpy=array([[0., 1., 2.]], dtype=float32)>)"
            ]
          },
          "metadata": {},
          "execution_count": 56
        }
      ],
      "source": [
        "from numpy import dtypes\n",
        "a = tf.ones(shape = (3,2))\n",
        "b = tf.reshape(tf.range(3, dtype = float), (3, 1)) # they must share one of the same dimension(either row or col)\n",
        "b = tf.reshape(tf.range(3, dtype = float), (1, 3)) # doesn't workk; not the same col/row dim\n",
        "a, b"
      ]
    },
    {
      "cell_type": "markdown",
      "id": "ced73297",
      "metadata": {
        "origin_pos": 84,
        "id": "ced73297"
      },
      "source": [
        "Since `a` and `b` are $3\\times1$\n",
        "and $1\\times2$ matrices, respectively,\n",
        "their shapes do not match up.\n",
        "Broadcasting produces a larger $3\\times2$ matrix\n",
        "by replicating matrix `a` along the columns\n",
        "and matrix `b` along the rows\n",
        "before adding them elementwise.\n"
      ]
    },
    {
      "cell_type": "code",
      "execution_count": 57,
      "id": "561a499f",
      "metadata": {
        "execution": {
          "iopub.execute_input": "2023-08-18T20:03:38.969369Z",
          "iopub.status.busy": "2023-08-18T20:03:38.968777Z",
          "iopub.status.idle": "2023-08-18T20:03:38.974946Z",
          "shell.execute_reply": "2023-08-18T20:03:38.974129Z"
        },
        "origin_pos": 85,
        "tab": [
          "tensorflow"
        ],
        "colab": {
          "base_uri": "https://localhost:8080/",
          "height": 313
        },
        "id": "561a499f",
        "outputId": "e834e749-f6c0-469e-9f1f-59836cf11905"
      },
      "outputs": [
        {
          "output_type": "error",
          "ename": "InvalidArgumentError",
          "evalue": "{{function_node __wrapped__AddV2_device_/job:localhost/replica:0/task:0/device:CPU:0}} Incompatible shapes: [3,2] vs. [1,3] [Op:AddV2] name: ",
          "traceback": [
            "\u001b[0;31m---------------------------------------------------------------------------\u001b[0m",
            "\u001b[0;31mInvalidArgumentError\u001b[0m                      Traceback (most recent call last)",
            "\u001b[0;32m<ipython-input-57-bd58363a63fc>\u001b[0m in \u001b[0;36m<cell line: 1>\u001b[0;34m()\u001b[0m\n\u001b[0;32m----> 1\u001b[0;31m \u001b[0ma\u001b[0m \u001b[0;34m+\u001b[0m \u001b[0mb\u001b[0m\u001b[0;34m\u001b[0m\u001b[0;34m\u001b[0m\u001b[0m\n\u001b[0m",
            "\u001b[0;32m/usr/local/lib/python3.10/dist-packages/tensorflow/python/util/traceback_utils.py\u001b[0m in \u001b[0;36merror_handler\u001b[0;34m(*args, **kwargs)\u001b[0m\n\u001b[1;32m    151\u001b[0m     \u001b[0;32mexcept\u001b[0m \u001b[0mException\u001b[0m \u001b[0;32mas\u001b[0m \u001b[0me\u001b[0m\u001b[0;34m:\u001b[0m\u001b[0;34m\u001b[0m\u001b[0;34m\u001b[0m\u001b[0m\n\u001b[1;32m    152\u001b[0m       \u001b[0mfiltered_tb\u001b[0m \u001b[0;34m=\u001b[0m \u001b[0m_process_traceback_frames\u001b[0m\u001b[0;34m(\u001b[0m\u001b[0me\u001b[0m\u001b[0;34m.\u001b[0m\u001b[0m__traceback__\u001b[0m\u001b[0;34m)\u001b[0m\u001b[0;34m\u001b[0m\u001b[0;34m\u001b[0m\u001b[0m\n\u001b[0;32m--> 153\u001b[0;31m       \u001b[0;32mraise\u001b[0m \u001b[0me\u001b[0m\u001b[0;34m.\u001b[0m\u001b[0mwith_traceback\u001b[0m\u001b[0;34m(\u001b[0m\u001b[0mfiltered_tb\u001b[0m\u001b[0;34m)\u001b[0m \u001b[0;32mfrom\u001b[0m \u001b[0;32mNone\u001b[0m\u001b[0;34m\u001b[0m\u001b[0;34m\u001b[0m\u001b[0m\n\u001b[0m\u001b[1;32m    154\u001b[0m     \u001b[0;32mfinally\u001b[0m\u001b[0;34m:\u001b[0m\u001b[0;34m\u001b[0m\u001b[0;34m\u001b[0m\u001b[0m\n\u001b[1;32m    155\u001b[0m       \u001b[0;32mdel\u001b[0m \u001b[0mfiltered_tb\u001b[0m\u001b[0;34m\u001b[0m\u001b[0;34m\u001b[0m\u001b[0m\n",
            "\u001b[0;32m/usr/local/lib/python3.10/dist-packages/tensorflow/python/framework/ops.py\u001b[0m in \u001b[0;36mraise_from_not_ok_status\u001b[0;34m(e, name)\u001b[0m\n\u001b[1;32m   5981\u001b[0m \u001b[0;32mdef\u001b[0m \u001b[0mraise_from_not_ok_status\u001b[0m\u001b[0;34m(\u001b[0m\u001b[0me\u001b[0m\u001b[0;34m,\u001b[0m \u001b[0mname\u001b[0m\u001b[0;34m)\u001b[0m \u001b[0;34m->\u001b[0m \u001b[0mNoReturn\u001b[0m\u001b[0;34m:\u001b[0m\u001b[0;34m\u001b[0m\u001b[0;34m\u001b[0m\u001b[0m\n\u001b[1;32m   5982\u001b[0m   \u001b[0me\u001b[0m\u001b[0;34m.\u001b[0m\u001b[0mmessage\u001b[0m \u001b[0;34m+=\u001b[0m \u001b[0;34m(\u001b[0m\u001b[0;34m\" name: \"\u001b[0m \u001b[0;34m+\u001b[0m \u001b[0mstr\u001b[0m\u001b[0;34m(\u001b[0m\u001b[0mname\u001b[0m \u001b[0;32mif\u001b[0m \u001b[0mname\u001b[0m \u001b[0;32mis\u001b[0m \u001b[0;32mnot\u001b[0m \u001b[0;32mNone\u001b[0m \u001b[0;32melse\u001b[0m \u001b[0;34m\"\"\u001b[0m\u001b[0;34m)\u001b[0m\u001b[0;34m)\u001b[0m\u001b[0;34m\u001b[0m\u001b[0;34m\u001b[0m\u001b[0m\n\u001b[0;32m-> 5983\u001b[0;31m   \u001b[0;32mraise\u001b[0m \u001b[0mcore\u001b[0m\u001b[0;34m.\u001b[0m\u001b[0m_status_to_exception\u001b[0m\u001b[0;34m(\u001b[0m\u001b[0me\u001b[0m\u001b[0;34m)\u001b[0m \u001b[0;32mfrom\u001b[0m \u001b[0;32mNone\u001b[0m  \u001b[0;31m# pylint: disable=protected-access\u001b[0m\u001b[0;34m\u001b[0m\u001b[0;34m\u001b[0m\u001b[0m\n\u001b[0m\u001b[1;32m   5984\u001b[0m \u001b[0;34m\u001b[0m\u001b[0m\n\u001b[1;32m   5985\u001b[0m \u001b[0;34m\u001b[0m\u001b[0m\n",
            "\u001b[0;31mInvalidArgumentError\u001b[0m: {{function_node __wrapped__AddV2_device_/job:localhost/replica:0/task:0/device:CPU:0}} Incompatible shapes: [3,2] vs. [1,3] [Op:AddV2] name: "
          ]
        }
      ],
      "source": [
        "a + b"
      ]
    },
    {
      "cell_type": "markdown",
      "id": "b570a60a",
      "metadata": {
        "origin_pos": 86,
        "id": "b570a60a"
      },
      "source": [
        "## Saving Memory\n",
        "\n",
        "[**Running operations can cause new memory to be\n",
        "allocated to host results.**]\n",
        "For example, if we write `Y = X + Y`,\n",
        "we dereference the tensor that `Y` used to point to\n",
        "and instead point `Y` at the newly allocated memory.\n",
        "We can demonstrate this issue with Python's `id()` function,\n",
        "which gives us the exact address\n",
        "of the referenced object in memory.\n",
        "Note that after we run `Y = Y + X`,\n",
        "`id(Y)` points to a different location.\n",
        "That is because Python first evaluates `Y + X`,\n",
        "allocating new memory for the result\n",
        "and then points `Y` to this new location in memory.\n"
      ]
    },
    {
      "cell_type": "code",
      "execution_count": 20,
      "id": "f5e5f9c8",
      "metadata": {
        "execution": {
          "iopub.execute_input": "2023-08-18T20:03:38.978187Z",
          "iopub.status.busy": "2023-08-18T20:03:38.977592Z",
          "iopub.status.idle": "2023-08-18T20:03:38.982872Z",
          "shell.execute_reply": "2023-08-18T20:03:38.982072Z"
        },
        "origin_pos": 87,
        "tab": [
          "tensorflow"
        ],
        "colab": {
          "base_uri": "https://localhost:8080/"
        },
        "id": "f5e5f9c8",
        "outputId": "c0652116-776b-432b-ee59-209f29929198"
      },
      "outputs": [
        {
          "output_type": "execute_result",
          "data": {
            "text/plain": [
              "False"
            ]
          },
          "metadata": {},
          "execution_count": 20
        }
      ],
      "source": [
        "before = id(Y)\n",
        "Y = Y + X\n",
        "id(Y) == before"
      ]
    },
    {
      "cell_type": "markdown",
      "id": "761fd452",
      "metadata": {
        "origin_pos": 88,
        "id": "761fd452"
      },
      "source": [
        "This might be undesirable for two reasons.\n",
        "First, we do not want to run around\n",
        "allocating memory unnecessarily all the time.\n",
        "In machine learning, we often have\n",
        "hundreds of megabytes of parameters\n",
        "and update all of them multiple times per second.\n",
        "Whenever possible, we want to perform these updates *in place*.\n",
        "Second, we might point at the\n",
        "same parameters from multiple variables.\n",
        "If we do not update in place,\n",
        "we must be careful to update all of these references,\n",
        "lest we spring a memory leak\n",
        "or inadvertently refer to stale parameters.\n"
      ]
    },
    {
      "cell_type": "markdown",
      "id": "7b012e6c",
      "metadata": {
        "origin_pos": 90,
        "tab": [
          "tensorflow"
        ],
        "id": "7b012e6c"
      },
      "source": [
        "`Variables` are mutable containers of state in TensorFlow. They provide\n",
        "a way to store your model parameters.\n",
        "We can assign the result of an operation\n",
        "to a `Variable` with `assign`.\n",
        "To illustrate this concept,\n",
        "we overwrite the values of `Variable` `Z`\n",
        "after initializing it, using `zeros_like`,\n",
        "to have the same shape as `Y`.\n"
      ]
    },
    {
      "cell_type": "code",
      "execution_count": 21,
      "id": "98a5dd35",
      "metadata": {
        "execution": {
          "iopub.execute_input": "2023-08-18T20:03:38.986206Z",
          "iopub.status.busy": "2023-08-18T20:03:38.985569Z",
          "iopub.status.idle": "2023-08-18T20:03:38.993195Z",
          "shell.execute_reply": "2023-08-18T20:03:38.992393Z"
        },
        "origin_pos": 93,
        "tab": [
          "tensorflow"
        ],
        "colab": {
          "base_uri": "https://localhost:8080/"
        },
        "id": "98a5dd35",
        "outputId": "a9ad2d27-c5a9-42af-80de-c9780df80a65"
      },
      "outputs": [
        {
          "output_type": "execute_result",
          "data": {
            "text/plain": [
              "True"
            ]
          },
          "metadata": {},
          "execution_count": 21
        }
      ],
      "source": [
        "Z = tf.Variable(tf.zeros_like(Y))\n",
        "before = id(Z)\n",
        "Z.assign(X + Y)\n",
        "before == id(Z)"
      ]
    },
    {
      "cell_type": "code",
      "source": [
        "import tensorflow as tf\n",
        "@tf.function\n",
        "def compute(x):\n",
        "  y = x + 1\n",
        "  z = y * 2\n",
        "  return z\n",
        "x = tf.constant(3.0)\n",
        "print(compute(x))\n"
      ],
      "metadata": {
        "colab": {
          "base_uri": "https://localhost:8080/"
        },
        "id": "XWv_GZFk53ve",
        "outputId": "5fc9baa0-2e89-4030-d27b-18fd58a5652d"
      },
      "id": "XWv_GZFk53ve",
      "execution_count": 22,
      "outputs": [
        {
          "output_type": "stream",
          "name": "stdout",
          "text": [
            "tf.Tensor(8.0, shape=(), dtype=float32)\n"
          ]
        }
      ]
    },
    {
      "cell_type": "code",
      "source": [
        "# using pytorch\n",
        "import torch\n",
        "Y = torch.arange(12, dtype=torch.float32).reshape((3,4))\n",
        "X = 5\n",
        "P = torch.zeros_like(Y)\n",
        "before = id(P)\n",
        "P[:] = X + Y\n",
        "before == id(P)"
      ],
      "metadata": {
        "colab": {
          "base_uri": "https://localhost:8080/"
        },
        "id": "JffXjSVUHdHV",
        "outputId": "5f31a3eb-f04c-40d6-a21c-c39ac6b0a23d"
      },
      "id": "JffXjSVUHdHV",
      "execution_count": 23,
      "outputs": [
        {
          "output_type": "execute_result",
          "data": {
            "text/plain": [
              "True"
            ]
          },
          "metadata": {},
          "execution_count": 23
        }
      ]
    },
    {
      "cell_type": "markdown",
      "id": "f1596c76",
      "metadata": {
        "origin_pos": 96,
        "tab": [
          "tensorflow"
        ],
        "id": "f1596c76"
      },
      "source": [
        "Even once you store state persistently in a `Variable`,\n",
        "you may want to reduce your memory usage further by avoiding excess\n",
        "allocations for tensors that are not your model parameters.\n",
        "Because TensorFlow `Tensors` are immutable\n",
        "and gradients do not flow through `Variable` assignments,\n",
        "TensorFlow does not provide an explicit way to run\n",
        "an individual operation in-place.\n",
        "\n",
        "However, TensorFlow provides the `tf.function` decorator\n",
        "to wrap computation inside of a TensorFlow graph\n",
        "that gets compiled and optimized before running.\n",
        "This allows TensorFlow to prune unused values,\n",
        "and to reuse prior allocations that are no longer needed.\n",
        "This minimizes the memory overhead of TensorFlow computations.\n"
      ]
    },
    {
      "cell_type": "code",
      "execution_count": 24,
      "id": "8f12394b",
      "metadata": {
        "execution": {
          "iopub.execute_input": "2023-08-18T20:03:38.996480Z",
          "iopub.status.busy": "2023-08-18T20:03:38.995882Z",
          "iopub.status.idle": "2023-08-18T20:03:39.075926Z",
          "shell.execute_reply": "2023-08-18T20:03:39.075137Z"
        },
        "origin_pos": 98,
        "tab": [
          "tensorflow"
        ],
        "colab": {
          "base_uri": "https://localhost:8080/"
        },
        "id": "8f12394b",
        "outputId": "04df856b-2082-4a50-8fc0-9d228131ae21"
      },
      "outputs": [
        {
          "output_type": "execute_result",
          "data": {
            "text/plain": [
              "<tf.Tensor: shape=(3, 4), dtype=float32, numpy=\n",
              "array([[ 5.,  9., 13., 17.],\n",
              "       [21., 25., 29., 33.],\n",
              "       [37., 41., 45., 49.]], dtype=float32)>"
            ]
          },
          "metadata": {},
          "execution_count": 24
        }
      ],
      "source": [
        "@tf.function\n",
        "def computation(X, Y):\n",
        "    Z = tf.zeros_like(Y)  # This unused value will be pruned out\n",
        "    A = X + Y  # Allocations will be reused when no longer needed\n",
        "    B = A + Y\n",
        "    C = B + Y\n",
        "    return C + Y\n",
        "\n",
        "computation(X, Y)"
      ]
    },
    {
      "cell_type": "code",
      "source": [
        "import tensorflow as tf\n",
        "\n",
        "#visualizing pruning\n",
        "# Call the function to trigger graph tracing\n",
        "computation(X, Y)\n",
        "\n",
        "# Get the concrete function\n",
        "concrete_function = computation.get_concrete_function(X, Y)\n",
        "\n",
        "# Inspect the graph\n",
        "graph_def = concrete_function.graph.as_graph_def()\n",
        "print(\"Operations in the graph:\")\n",
        "for op in graph_def.node:\n",
        "    print(op.name)\n"
      ],
      "metadata": {
        "id": "Zj93gPIaLpw6",
        "outputId": "c04b9226-7750-4c6a-8d03-ae40adcff7b4",
        "colab": {
          "base_uri": "https://localhost:8080/"
        }
      },
      "id": "Zj93gPIaLpw6",
      "execution_count": 25,
      "outputs": [
        {
          "output_type": "stream",
          "name": "stdout",
          "text": [
            "Operations in the graph:\n",
            "Y\n",
            "zeros_like\n",
            "add/x\n",
            "add\n",
            "add_1\n",
            "add_2\n",
            "add_3\n",
            "Identity\n"
          ]
        }
      ]
    },
    {
      "cell_type": "code",
      "source": [
        "import numpy as np\n",
        "import tensorflow as tf\n",
        "# Tall matrix\n",
        "B = [\n",
        "    [2,-3],\n",
        "    [1,0],\n",
        "    [4, 9]\n",
        "]\n",
        "before = id(B)\n",
        "B = np.array(B)\n",
        "print(id(B)==before)\n",
        "x = np.array([-3,1], dtype = float).reshape(2,-1)\n",
        "y = B @ x # dot product\n",
        "# reconstructing x\n",
        "x_reconstr = np.linalg.inv(B.T @B)@B.T @ y\n",
        "print(x == x_reconstr)"
      ],
      "metadata": {
        "id": "NrSvDMAKSf2O",
        "outputId": "22a7a188-8b42-4891-c2a2-f0445f620cad",
        "colab": {
          "base_uri": "https://localhost:8080/"
        }
      },
      "id": "NrSvDMAKSf2O",
      "execution_count": 26,
      "outputs": [
        {
          "output_type": "stream",
          "name": "stdout",
          "text": [
            "False\n",
            "[[False]\n",
            " [False]]\n"
          ]
        }
      ]
    },
    {
      "cell_type": "markdown",
      "id": "9781ccfd",
      "metadata": {
        "origin_pos": 99,
        "id": "9781ccfd"
      },
      "source": [
        "## Conversion to Other Python Objects\n"
      ]
    },
    {
      "cell_type": "markdown",
      "id": "c40b6a3b",
      "metadata": {
        "origin_pos": 100,
        "tab": [
          "tensorflow"
        ],
        "id": "c40b6a3b"
      },
      "source": [
        "[**Converting to a NumPy tensor (`ndarray`)**], or vice versa, is easy.\n",
        "The converted result does not share memory.\n",
        "This minor inconvenience is actually quite important:\n",
        "when you perform operations on the CPU or on GPUs,\n",
        "you do not want to halt computation, waiting to see\n",
        "whether the NumPy package of Python\n",
        "might want to be doing something else\n",
        "with the same chunk of memory.\n"
      ]
    },
    {
      "cell_type": "code",
      "execution_count": 28,
      "id": "1a52fb0d",
      "metadata": {
        "execution": {
          "iopub.execute_input": "2023-08-18T20:03:39.079210Z",
          "iopub.status.busy": "2023-08-18T20:03:39.078704Z",
          "iopub.status.idle": "2023-08-18T20:03:39.084139Z",
          "shell.execute_reply": "2023-08-18T20:03:39.083376Z"
        },
        "origin_pos": 104,
        "tab": [
          "tensorflow"
        ],
        "colab": {
          "base_uri": "https://localhost:8080/"
        },
        "id": "1a52fb0d",
        "outputId": "65ad5fc9-2411-47d5-ef24-df9f32a94b36"
      },
      "outputs": [
        {
          "output_type": "execute_result",
          "data": {
            "text/plain": [
              "(numpy.ndarray, tensorflow.python.framework.ops.EagerTensor)"
            ]
          },
          "metadata": {},
          "execution_count": 28
        }
      ],
      "source": [
        "X = tf.reshape(tf.range(12, dtype=tf.float32), (3, 4))\n",
        "A = X.numpy() #  convert from tf to np\n",
        "B = tf.constant(A) #  convert from np to tf\n",
        "type(A), type(B)"
      ]
    },
    {
      "cell_type": "markdown",
      "id": "663bcbe8",
      "metadata": {
        "origin_pos": 106,
        "id": "663bcbe8"
      },
      "source": [
        "To (**convert a size-1 tensor to a Python scalar**),\n",
        "we can invoke the `item` function or Python's built-in functions.\n"
      ]
    },
    {
      "cell_type": "code",
      "execution_count": 31,
      "id": "7a57fe2d",
      "metadata": {
        "execution": {
          "iopub.execute_input": "2023-08-18T20:03:39.087476Z",
          "iopub.status.busy": "2023-08-18T20:03:39.086836Z",
          "iopub.status.idle": "2023-08-18T20:03:39.092603Z",
          "shell.execute_reply": "2023-08-18T20:03:39.091814Z"
        },
        "origin_pos": 109,
        "tab": [
          "tensorflow"
        ],
        "colab": {
          "base_uri": "https://localhost:8080/"
        },
        "id": "7a57fe2d",
        "outputId": "156569aa-709c-439b-ef44-e9dfad61fe39"
      },
      "outputs": [
        {
          "output_type": "stream",
          "name": "stderr",
          "text": [
            "<ipython-input-31-a1a29b18da58>:2: DeprecationWarning: Conversion of an array with ndim > 0 to a scalar is deprecated, and will error in future. Ensure you extract a single element from your array before performing this operation. (Deprecated NumPy 1.25.)\n",
            "  a, a.item(), float(a), int(a)\n"
          ]
        },
        {
          "output_type": "execute_result",
          "data": {
            "text/plain": [
              "(array([3.5], dtype=float32), 3.5, 3.5, 3)"
            ]
          },
          "metadata": {},
          "execution_count": 31
        }
      ],
      "source": [
        "a = tf.constant([3.5]).numpy()\n",
        "a, a.item(), float(a), int(a)"
      ]
    },
    {
      "cell_type": "markdown",
      "id": "ad29fbd2",
      "metadata": {
        "origin_pos": 111,
        "id": "ad29fbd2"
      },
      "source": [
        "## Summary\n",
        "\n",
        "The tensor class is the main interface for storing and manipulating data in deep learning libraries.\n",
        "Tensors provide a variety of functionalities including construction routines; indexing and slicing; basic mathematics operations; broadcasting; memory-efficient assignment; and conversion to and from other Python objects.\n",
        "\n",
        "\n",
        "## Exercises\n",
        "\n",
        "1. Run the code in this section. Change the conditional statement `X == Y` to `X < Y` or `X > Y`, and then see what kind of tensor you can get.\n",
        "1. Replace the two tensors that operate by element in the broadcasting mechanism with other shapes, e.g., 3-dimensional tensors. Is the result the same as expected?\n"
      ]
    },
    {
      "cell_type": "markdown",
      "id": "94b6aea9",
      "metadata": {
        "origin_pos": 114,
        "tab": [
          "tensorflow"
        ],
        "id": "94b6aea9"
      },
      "source": [
        "[Discussions](https://discuss.d2l.ai/t/187)\n"
      ]
    }
  ],
  "metadata": {
    "kernelspec": {
      "display_name": "Python 3",
      "name": "python3"
    },
    "language_info": {
      "name": "python"
    },
    "required_libs": [],
    "colab": {
      "provenance": [],
      "include_colab_link": true
    }
  },
  "nbformat": 4,
  "nbformat_minor": 5
}